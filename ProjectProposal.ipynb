{
 "cells": [
  {
   "cell_type": "markdown",
   "metadata": {},
   "source": [
    "# COGS 108 - Project Proposal"
   ]
  },
  {
   "cell_type": "markdown",
   "metadata": {},
   "source": [
    "## Important\n",
    "\n",
    "- Make sure all group members (3-5 people) are listed in the group members section.\n",
    "- ONE, and only one, member of your group should upload this notebook to TritonED. \n",
    "- Each member of the group will receive the same grade on this assignment. \n",
    "- Keep the file name the same: submit the file 'ProjectProposal.ipynb'"
   ]
  },
  {
   "cell_type": "markdown",
   "metadata": {},
   "source": [
    "## Overview"
   ]
  },
  {
   "cell_type": "markdown",
   "metadata": {},
   "source": [
    "Read the project description and detailed instructions for this assignment in the 'ProjectOutline' document."
   ]
  },
  {
   "cell_type": "markdown",
   "metadata": {},
   "source": [
    "## Group Members: Fill in the Student IDs of each group member here\n",
    "\n",
    "Replace the lines below to list each persons full student ID. Add lines as needed for your group size, and make sure each ID is listed on a separate line. \n",
    "\n",
    "- A13516000\n",
    "- A13968095\n",
    "- A13663871\n",
    "- A13229645\n"
   ]
  },
  {
   "cell_type": "markdown",
   "metadata": {},
   "source": [
    "### Research Question\n",
    "\n",
    "What is your research question? (1-2 sentences)"
   ]
  },
  {
   "cell_type": "markdown",
   "metadata": {},
   "source": [
    "What water activity makes it most likely you will be attacked by a shark, and is there a specific time of day when sharks are more likely to attack?"
   ]
  },
  {
   "cell_type": "markdown",
   "metadata": {},
   "source": [
    "### Hypothesis\n",
    "\n",
    "What is your main hypothesis and predictions? (2-3 sentences)"
   ]
  },
  {
   "cell_type": "markdown",
   "metadata": {},
   "source": [
    "We believe that people surfing will be attacked the most. Sharks can detect splashing easily and perceive color contrasts well; therefore, since surfing causes a significant amount of splashing and requires large boards, which are often brightly colored, it is likely that surfing is the most common activity that has led to shark attacks. Sharks are also known to feed at night, so we believe that most shark attacks occur either early in the morning or right after the sun sets."
   ]
  },
  {
   "cell_type": "markdown",
   "metadata": {},
   "source": [
    "### Dataset(s)\n",
    "\n",
    "What data will you use to answer your question? Describe the dataset(s) in terms of number of observations, what kind of features it contains, etc. You must use at least one dataset containing at least approximately 1000 observations (if your data are smaller but you feel they are sufficient, email Prof. Voytek). You are welcome (and in fact recommended) to find multiple datasets! If you do so, describe each one, and briefly explain how you will combine them together. "
   ]
  },
  {
   "cell_type": "markdown",
   "metadata": {},
   "source": [
    "- Dataset Name: Global Shark Attacks\n",
    "- Link to the dataset: https://www.kaggle.com/teajay/global-shark-attacks/data\n",
    "- Number of observations: 6,221\n",
    "\n",
    "The data we will be using from this dataset is the date, time, and the activity the person was doing prior to being attacks. We may also use the location of the attack."
   ]
  },
  {
   "cell_type": "markdown",
   "metadata": {},
   "source": [
    "### Background and Prior Work\n",
    "\n",
    "Why is this question of interest, what background information led you to your hypothesis, and why is this important?\n",
    "\n",
    "Find some relevant prior work, and reference those sources. Even if you think you have a totally novel question, find the most similar prior work that you can and discuss how it relates to your project. \n",
    "\n",
    "References can be research publications, but they need not be. Blogs, github repositories, company websites, etc., are all viable references if they are relevant to your project.\n",
    "\n",
    "(2-3 paragraphs, including at least 2 references)"
   ]
  },
  {
   "cell_type": "markdown",
   "metadata": {},
   "source": [
    "Last year, there was a total of 155 recorded global incidents involving shark-human interaction, 88 of which were classified as “unprovoked.” Unprovoked shark attacks are defined as those that are not initiated by humans touching sharks or actively encroaching upon shark territory. Out of these 88 unprovoked attacks, 31 took place in Florida. Records indicate that 59% of the victims were surfing or doing some sort of board sport at the time of attack, whereas 22% were swimming or wading. The remaining 19% was made up of other shallow water activities, scuba diving, body surfing, and snorkeling [1]. \n",
    "\n",
    "Although these statistics are specific to incidents that took place in Florida, it is likely that surfing and board sports remain the most common activity performed during the time of a shark attack when global data is taken into account. Sharks are known to detect excessive splashing easily since splashing mimics “the movements of injured or disoriented prey fish and animals” [2]. Therefore, even though sharks are not inclined to eat humans, water activities that require splashing, like surfing, can attract attention from sharks and result in a shark mistaking a human for injured prey. Sharks can also perceive color contrasts well, so bright colored objects, such as surfboards or clothing, could potentially attract a shark and lead to an attack [2]. \n",
    "\n",
    "The number of shark attacks is relatively low compared to the amount of people that partake in water activities; however, these attacks are still responsible for approximately five to fifteen fatalities each year. By determining the most common activity performed during a shark attack incident and taking the time of attack into account, we will be able to determine what type of activity to avoid during specific times of the day in order to decrease the likelihood of a shark attack. Knowing this information would lead to safer practices involving water activities.\n",
    "\n",
    "References (include links):\n",
    "- [1] French, Lindsey A. “Yearly Worldwide Shark Attack Summary.” Florida Museum, University of Florida, 6 Feb. 2018, www.floridamuseum.ufl.edu/shark-attacks/yearly-worldwide-summary/.\n",
    "- [2] “Why Do Sharks Attack?” Discovery, 18 Sept. 2014, www.discovery.com/tv-shows/shark-week/about-this-show/why-do-sharks-attack/."
   ]
  },
  {
   "cell_type": "markdown",
   "metadata": {},
   "source": [
    "### Proposed Methods\n",
    "\n",
    "What methods will you use to analyze your data?\n",
    "\n",
    "- How 'clean' is the data? To the extent that it requires cleaning, how will you do so?\n",
    "- How will you analyze the data? Be as specific as you can. Briefly mention any pre-processing steps that are required for your methods (for example, checking data distributions and performing any transformations that may be required). Include a brief outline of how you will apply your chosen method(s). \n",
    "- What do you plan to report? Briefly mention any key visualizations you plan to create, and/or the kind of results you will be able to report that address your question (this could be, for example, the outcome of some statistical test(s), prediction error on a model, a model fit parameter, etc.).\n",
    "- Include a list of packages you expect to use for you project. If you plan to use packages we have not used in class, add a very brief description about them (a few words is sufficient). "
   ]
  },
  {
   "cell_type": "markdown",
   "metadata": {},
   "source": [
    "*Data Cleaning (2-3 sentences): In order to get the most accurate data, we will drop all rows with missing data, all data obtained before 1950, and all rows containing activities that are uncommon or potential outliers. We plan to drop data before 1950 since some of it goes as far back as “70 A.D.,” and we do not believe that these entries are as accurate as the attacks recorded in the last 70 years. We also plan to drop the uncommon activities because we are focusing on the activity that makes it most likely for someone to be attacked.\n",
    "\n",
    "*Data Analysis (1-2 paragraphs): We will be using Pandas to create histograms of the different activities that lead up to shark attacks and Numpy to drop the missing data we find. We will group the data based on activities such as swimming, surfing, and kayaking. Once the activities are grouped, we will count how many of these activities occurred and plot them in a histogram. After determining what activity is the most common in shark attacks, we will drop times where shark attacks are very rare, such as late at night. Then, we will group the times of attack into early morning (4:00am to 7:00am), day time (7:00am to 7:00pm), and night time (7:00pm to 10:00pm) and count them to see if there is a specific time when attacks occur most frequently. We will also try to look at location and group the attacks by country, and then create a visual with a world map showing where people were injured.\n",
    "\n",
    "*What to report (2-3 sentences): We plan to report what activities result in the most shark attacks and when the most shark attacks take place. We will break these down by statistics. There is a possibility that we will map out where the most attacks happen, but we are not entirely sure we know how to do this yet.\n",
    "\n",
    "Packages we plan to use:\n",
    "- Pandas\n",
    "- Numpy"
   ]
  },
  {
   "cell_type": "markdown",
   "metadata": {},
   "source": [
    "### Ethics and Privacy\n",
    "\n",
    "Briefly acknowledge and address any potential issues of ethics and privacy for the proposed project. In particular:\n",
    "- Do you have permission to use this data, for this purpose?\n",
    "- Are there privacy concerns regarding your datasets that you need to deal with, and/or terms of use that you need to comply with?\n",
    "- Are there potential biases in your dataset(s), in terms of who it composes, and how it was collected, that may be problematic in terms of it allowing for equitable analysis? (For example, does your data exclude particular populations, or is it likely to reflect particular human biases in a way that could be a problem?) \n",
    "- Are there any other issues related to your topic area, data, and/or analyses that are potentially problematic in terms of data privacy and equitable impact?\n",
    "- How will you handle any issues you identify?\n",
    "\n",
    "(1-2 paragraphs)\n",
    "\n",
    "We found this dataset on Kaggle, a website that provides public datasets, so we believe we have permission to use it. However, we will need to remove the names of the victims and the detectives from it in order to ensure their privacy. One potential bias is that our data set may not be completely inclusive or accurate. For example, attack that occur in may remote areas are most likely not reported. Besides this, we believe the dataset is accurate and that there will not be any other issues related to the data. We will ensure that the privacy of each person involved will be protected."
   ]
  },
  {
   "cell_type": "markdown",
   "metadata": {},
   "source": [
    "### Discussion\n",
    "\n",
    "Discuss your project, looking forward to what your results might mean, how they fit it in with what is already known, and what problems you may encounter. \n",
    "\n",
    "In particular:\n",
    "- If your analyses and hypotheses are correct, what will be the contribution of this project to the topic domain? \n",
    "- Alternatively, what will you do if you methods don't work and/or your hypotheses are wrong? \n",
    "- What are the potential pitfalls and potential confounds of your data and/or methods that may cause problems, and/or influence your interpretations?\n",
    "\n",
    "(2-3 paragraphs)"
   ]
  },
  {
   "cell_type": "markdown",
   "metadata": {},
   "source": [
    "If our analyses and hypotheses are correct, we could help lower the amount of shark attacks and consequently help amend the negative stigma surrounding sharks. If we can pinpoint what activity is most likely to attract a shark, we can warn people not to do that in areas where sharks are known to pass through. Also, people have this idea that sharks purposefully hunt humans and this is only reinforced when someone is attacked. However, sharks often only bite people when they mistake them for their normal prey. If the amount of shark attacks can be lowered, even though there are not a significant amount of attacks now, we can help protect these animals. Sharks are hunted for their fins, for fun, and sometimes to make an area \"safer\". There would be outrage if people hunted dolphins. And although dolphins are not known for attacking people, sharks deserve the same amount of protection.\n",
    "\n",
    "If our hypotheses are incorrect, we would most likely still be able to identify an activity that leads to attacks. As stated above, this would be beneficial to humans and sharks alike.\n",
    "\n",
    "One problem we may encounter is that there are other factors that cause sharks to attack. There is proof that sharks are drawn to shiny materials (such as necklaces and other jewelry). Similarly, people that are attacked while fishing and spearfishing will likely attract sharks because of the blood from fish they are trying to catch, not because of their movements in or around the water. Finally, there is a larger chance that someone surfing will accidentally cut themselves on their board than someone cutting themselves while swimming. All of these factors could contribute to shark attacks, but we want to focus on the activity itself that could attract sharks, not other circumstances.\n"
   ]
  },
  {
   "cell_type": "code",
   "execution_count": null,
   "metadata": {
    "collapsed": true
   },
   "outputs": [],
   "source": []
  }
 ],
 "metadata": {
  "kernelspec": {
   "display_name": "Python 3",
   "language": "python",
   "name": "python3"
  },
  "language_info": {
   "codemirror_mode": {
    "name": "ipython",
    "version": 3
   },
   "file_extension": ".py",
   "mimetype": "text/x-python",
   "name": "python",
   "nbconvert_exporter": "python",
   "pygments_lexer": "ipython3",
   "version": "3.6.3"
  }
 },
 "nbformat": 4,
 "nbformat_minor": 2
}
